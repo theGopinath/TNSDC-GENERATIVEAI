{
  "nbformat": 4,
  "nbformat_minor": 0,
  "metadata": {
    "colab": {
      "provenance": [],
      "toc_visible": true
    },
    "kernelspec": {
      "name": "python3",
      "display_name": "Python 3"
    },
    "language_info": {
      "name": "python"
    }
  },
  "cells": [
    {
      "cell_type": "code",
      "execution_count": 1,
      "metadata": {
        "colab": {
          "base_uri": "https://localhost:8080/"
        },
        "id": "9OmBd8GalpTV",
        "outputId": "b3010c6c-ae1a-49eb-b34c-b360d4448240"
      },
      "outputs": [
        {
          "output_type": "stream",
          "name": "stdout",
          "text": [
            "Epoch 1/10\n",
            "3/3 [==============================] - 4s 751ms/step - loss: 2.5077 - accuracy: 0.1000 - val_loss: 2.1184 - val_accuracy: 0.3000\n",
            "Epoch 2/10\n",
            "3/3 [==============================] - 1s 442ms/step - loss: 2.2832 - accuracy: 0.1222 - val_loss: 2.1340 - val_accuracy: 0.3000\n",
            "Epoch 3/10\n",
            "3/3 [==============================] - 1s 435ms/step - loss: 2.2550 - accuracy: 0.1333 - val_loss: 2.1541 - val_accuracy: 0.4000\n",
            "Epoch 4/10\n",
            "3/3 [==============================] - 1s 467ms/step - loss: 2.2485 - accuracy: 0.1333 - val_loss: 2.1543 - val_accuracy: 0.2000\n",
            "Epoch 5/10\n",
            "3/3 [==============================] - 1s 292ms/step - loss: 2.2294 - accuracy: 0.1333 - val_loss: 2.0692 - val_accuracy: 0.2000\n",
            "Epoch 6/10\n",
            "3/3 [==============================] - 1s 279ms/step - loss: 2.2186 - accuracy: 0.1667 - val_loss: 2.0443 - val_accuracy: 0.3000\n",
            "Epoch 7/10\n",
            "3/3 [==============================] - 1s 337ms/step - loss: 2.1766 - accuracy: 0.1333 - val_loss: 2.0827 - val_accuracy: 0.2000\n",
            "Epoch 8/10\n",
            "3/3 [==============================] - 1s 284ms/step - loss: 2.1799 - accuracy: 0.2444 - val_loss: 2.1209 - val_accuracy: 0.2000\n",
            "Epoch 9/10\n",
            "3/3 [==============================] - 1s 180ms/step - loss: 2.1563 - accuracy: 0.1889 - val_loss: 2.0827 - val_accuracy: 0.2000\n",
            "Epoch 10/10\n",
            "3/3 [==============================] - 1s 195ms/step - loss: 2.1190 - accuracy: 0.2556 - val_loss: 2.0814 - val_accuracy: 0.3000\n",
            "1/1 [==============================] - 0s 54ms/step - loss: 2.2788 - accuracy: 0.0500\n",
            "Test loss: 2.2787528038024902\n",
            "Test accuracy: 0.05000000074505806\n"
          ]
        }
      ],
      "source": [
        "import numpy as np\n",
        "import tensorflow as tf\n",
        "from tensorflow.keras.models import Sequential\n",
        "from tensorflow.keras.layers import Conv2D, MaxPooling2D, Flatten, Dense, Dropout\n",
        "from sklearn.model_selection import train_test_split\n",
        "\n",
        "# Assuming you have your data loaded and preprocessed, and it consists of audio spectrograms and corresponding labels\n",
        "# X_train, X_test, y_train, y_test = load_and_preprocess_data()\n",
        "\n",
        "# Generate some example data\n",
        "X_train = np.random.randn(100, 64, 64, 1)  # Example spectrograms for training\n",
        "y_train = np.random.randint(0, 10, size=(100,))  # Example labels for training\n",
        "X_test = np.random.randn(20, 64, 64, 1)  # Example spectrograms for testing\n",
        "y_test = np.random.randint(0, 10, size=(20,))  # Example labels for testing\n",
        "\n",
        "# Define the CNN model\n",
        "model = Sequential([\n",
        "    Conv2D(32, (3, 3), activation='relu', input_shape=(64, 64, 1)),\n",
        "    MaxPooling2D((2, 2)),\n",
        "    Conv2D(64, (3, 3), activation='relu'),\n",
        "    MaxPooling2D((2, 2)),\n",
        "    Conv2D(128, (3, 3), activation='relu'),\n",
        "    MaxPooling2D((2, 2)),\n",
        "    Flatten(),\n",
        "    Dense(128, activation='relu'),\n",
        "    Dropout(0.5),\n",
        "    Dense(10, activation='softmax')  # Assuming 10 output classes\n",
        "])\n",
        "\n",
        "# Compile the model\n",
        "model.compile(optimizer='adam',\n",
        "              loss='sparse_categorical_crossentropy',\n",
        "              metrics=['accuracy'])\n",
        "\n",
        "# Train the model\n",
        "model.fit(X_train, y_train, epochs=10, batch_size=32, validation_split=0.1)\n",
        "\n",
        "# Evaluate the model\n",
        "loss, accuracy = model.evaluate(X_test, y_test)\n",
        "print(f'Test loss: {loss}')\n",
        "print(f'Test accuracy: {accuracy}')"
      ]
    }
  ]
}